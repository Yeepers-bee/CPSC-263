{
  "metadata": {
    "kernelspec": {
      "name": "python",
      "display_name": "Python (Pyodide)",
      "language": "python"
    },
    "language_info": {
      "codemirror_mode": {
        "name": "python",
        "version": 3
      },
      "file_extension": ".py",
      "mimetype": "text/x-python",
      "name": "python",
      "nbconvert_exporter": "python",
      "pygments_lexer": "ipython3",
      "version": "3.8"
    }
  },
  "nbformat_minor": 4,
  "nbformat": 4,
  "cells": [
    {
      "cell_type": "markdown",
      "source": "# Strings\n\nTo submit this assignment in D2l, post the link to your notebook file on your GitHub account.",
      "metadata": {}
    },
    {
      "cell_type": "markdown",
      "source": "## 10.1 Email Creator\nCreate a program that reads a file and creates a series of emails.\n\n### Console:\n```powershell\nEmail Creator\n\n================================================================\nTo: jbutler@gmail.com \nFrom: noreply@deals.com \nSubject: Deals!\n\nHi James,\n\nWe've got some great deals for you. Check our website!\n================================================================\nTo:\tjosephine_darakjy@darakjy.org \nFrom:\tnoreply@deals.com\nSubject: Deals! \n\nHi Josephine,\n\nWe've got some great deals for you. Check our website!\n================================================================\nTo:\tart@venere.org\nFrom:\tnoreply@deals.com \nSubject: Deals!\n\nHi Art,\n\nWe've got some great deals for you. Check our website!\n```\n\n### Specifications:\n- Use `email.csv` file:\n- Use `email_template.txt` file:\n- When the program starts, it should read the email addresses and first names from the file, merge them into the mass email template, and display the results on the console.\n- All email addresses should be converted to **lowercase**.\n- All first names should be converted to **title case**.\n- If you add names to the list of email addresses, the program should create more emails.\n- If you modify the template, the program should change the content of the email that’s created. \n\n",
      "metadata": {}
    },
    {
      "cell_type": "code",
      "source": "### CODE HERE ###",
      "metadata": {},
      "outputs": [],
      "execution_count": null
    },
    {
      "cell_type": "markdown",
      "source": "## 10.2 Pig Latin Translator\n\nCreate a program that translates English to Pig Latin.\n\n### Console:\n```powershell\nPig Latin Translator\n\nEnter text: Tis but a scratch. \nEnglish:\ttis but a scratch\nPig Latin:\tistay utbay away atchscray \n\nContinue? (y/n): y\n\nEnter text: We are the knights who say nee!\nEnglish:\twe are the knights who say nee\nPig Latin:\teway areway ethay ightsknay owhay aysay eenay \n\nContinue? (y/n): n\n\nBye!\n```\n\n### Specifications:\n- Convert the English to lowercase before translating.\n- Remove the following punctuation characters before translating `! , ; : - . ?`\n- Assume that words are separated from each other by a single space.\n- If the word starts with a vowel, just add *way* to the end of the word.\n- If the word starts with a consonant, move all of the consonants that appear before the first vowel to the end of the word, then add *ay* to the end of the word.\n\n### Note:\n- There are no official rules for Pig Latin. Most people agree on how words that begin with consonants are translated, but there are many different ways to handle words that begin with vowels.\n",
      "metadata": {}
    },
    {
      "cell_type": "code",
      "source": "\ndef to_pig_latin(word):\n    # Remove punctuation\n    punctuation = ''\n    while word and not word[-1].isalnum():\n        punctuation = word[-1] + punctuation\n        word = word[:-1]\n    \n    if not word:\n        return punctuation\n    \n    # Check if word starts with vowel\n    if word[0].lower() in 'aeiou':\n        result = word + 'way'\n    else:\n        vowel_pos = 0\n        word_chars = list(word.lower())\n        found_vowel = False\n\n        for i in range(len(word_chars)):\n            char = word_chars[i]\n            if char in 'aeiou':\n                vowel_pos = i\n                found_vowel = True\n                break\n\n        \n    \n        result = word[vowel_pos:] + word[:vowel_pos] + 'ay' \n    return result\n\ndef translate_text(text):\n    words = text.split()\n    translated_words = [to_pig_latin(word) for word in words]\n    return ' '.join(translated_words)\n\ndef main():\n    print(\"Pig Latin Translator\\n\")\n    \n    while True:\n        text = input(\"Enter text: \")\n        english_text = text.lower()\n        pig_latin = translate_text(english_text)\n        print(f\"English:\\t{english_text}\")\n        print(f\"Pig Latin:\\t{pig_latin} \\n\")\n        continue_choice = input(\"Continue? (y/n): \")\n        if continue_choice != 'y':\n            print(\"\\nBye!\")\n            break\n        print()\n\nif __name__ == \"__main__\":\n    main()\n\n\n\n\n\n\n\n\n\n\n",
      "metadata": {},
      "outputs": [],
      "execution_count": null
    }
  ]
}