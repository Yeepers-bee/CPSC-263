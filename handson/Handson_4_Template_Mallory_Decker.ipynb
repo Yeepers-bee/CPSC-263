{
  "metadata": {
    "kernelspec": {
      "name": "python",
      "display_name": "Python (Pyodide)",
      "language": "python"
    },
    "language_info": {
      "codemirror_mode": {
        "name": "python",
        "version": 3
      },
      "file_extension": ".py",
      "mimetype": "text/x-python",
      "name": "python",
      "nbconvert_exporter": "python",
      "pygments_lexer": "ipython3",
      "version": "3.8"
    }
  },
  "nbformat_minor": 4,
  "nbformat": 4,
  "cells": [
    {
      "cell_type": "markdown",
      "source": "# List and Tuples\n\nTo submit this assignment in D2l, post the link to your notebook file on your GitHub account.",
      "metadata": {}
    },
    {
      "cell_type": "markdown",
      "source": "## 6.1 Prime Number Checker\nCreate a program that checks whether a number is a prime number and displays its factors if it is not a prime number.\n\n### Console:\n```powershell\nPrime Number Checker\n\nPlease enter an integer between 1 and 5000: 5\n5 is a prime number.\n\nTry again? (y/n): y\n\nPlease enter an integer between 1 and 5000: 6\n6 is NOT a prime number.\nIt has 4 factors: 1 2 3 6\n\nTry again? (y/n): y\n\nPlease enter an integer between 1 and 5000: 200\n200 is NOT a prime number.\nIt has 12 factors: 1 2 4 5 8 10 20 25 40 50 100 200\n\nTry again? (y/n): n\n\nBye!\n```\n\n### Specifications:\n- A prime number is divisible by two factors (1 and itself). For example, 7 is a prime number because it is only divisible by 1 and 7.\n- If the user enters an integer that's not between 1 and 5000, the program should display an error message.\n- If the number is a prime number, the program should display a message.\nIf the number is not a prime number, the program should display a message. Then, it should display the number of factors for the number and a list of those factors.\n- Store the factors for each number in a list.\n- Use functions to organize the code for this program.\n",
      "metadata": {}
    },
    {
      "cell_type": "code",
      "source": "\ndef main():\n    while True:\n        non_prime_list = []\n        user_input = int_enter()\n        factors = divisble(user_input, non_prime_list)\n        int(factors)\n        if factors == 2:\n            print(str(user_input), \"is a prime number.\")\n        else:\n            print(str(user_input), \"is NOT a prime number.\")\n            print(\"It has \", str(factors), \" factors:\", *non_prime_list)\n\n        answer = input(\"\\nTry again? (y/n): \\n\")\n        if answer == 'n':\n                  print(\"\\nBye!\")\n                  break\n\ndef title():\n    print(\"Prime Number Checker\\n\")\n    \n\n\ndef int_enter():\n    user_input = int(input(\"Please enter an integer between 1 and 5000: \"))\n    if user_input == 1:\n        print(\"Invalid integer. Please try again.\")\n        int_enter()\n    else:   \n        return user_input\n    \ndef divisble(user_input, non_prime_list):\n    factors:int = 0\n    for i in range(user_input):\n        temp = user_input % (i + 1)\n        if temp == 0:\n            factor = i + 1\n            non_prime_list.append(factor)\n            factors = factors + 1\n    return factors \n\n\n\nif __name__ == \"__main__\":\n    main()\n",
      "metadata": {},
      "outputs": [],
      "execution_count": 1
    },
    {
      "cell_type": "markdown",
      "source": "## 6.2 - Contact Manager\nCreate a program that a user can use to manage the primary email address and phone number for a contact.\n\n### Console\n```powershell\nContact Manager\n\nCOMMAND MENU\nlist - Display all contacts\nview - View a contact\nadd - Add a contact\ndel - Delete a contact\nexit - Exit program\n\nCommand: list\n1. Guido van Rossum\n2. Eric Idle\n\nCommand: view\nNumber: 2\nName: Eric Idle\nEmail: eric@ericidle.com\nPhone: +44 20 7946 0958\n\nCommand: add\nName: Mike Murach\nEmail: mike@murach.com\nPhone: 559-123-4567\nMike Murach was added.\n\nCommand: del\nNumber: 1\nGuido van Rossum was deleted.\n\nCommand: list\n1. Eric Idle\n2. Mike Murach\n\nCommand: exit\nBye!\n```\n\n### Specifications:\n- Use a list of lists to store the data for the contacts. Provide starting data for two or more contacts.\n- For the `view` and `del` commands, display an error message if the user enters and invalid contact number.\n- When you exit the program, all changes that you made to the contact list are lost.\n\n\n",
      "metadata": {}
    },
    {
      "cell_type": "code",
      "source": "\ndef main():\n    contact = default_list()\n    user_input = command_menu()\n    while True:\n\n#LIST\n        if user_input == \"1\":\n            listing = list_display(contact)\n            user_input = input(\"\")\n\n#VIEW\n        elif user_input == \"2\":\n            view(contact)\n            user_input = input(\"\")\n\n#ADD\n        elif user_input == \"3\":\n            adding = add()\n            contact.append(adding)\n            user_input = input(\"\")\n\n#DELETES\n        elif user_input == \"4\":\n            deleted = delete(contact)\n            if deleted < len(contact):\n                contact.pop(deleted)\n            user_input = input(\"\")\n#QUIT\n        elif user_input == \"5\":\n            print(\"Command: exit\")\n            print(\"Bye!\")\n            contact = default_list()\n            return\n        else:\n            user_input = input(\"\")\n            \n            \ndef title():\n    print(\"Contact Manager/n\")\n\ndef list_display(contact):\n    print(\"Command: list\")\n    length = len(contact)\n    for i in range(length):\n        number = i + 1\n        print(number, \". \", contact[i][0], sep='')\n\ndef view(contact):\n    print(\"Command: view\")\n    real_number = int(input(\"Number: \"))\n    number = real_number - 1\n    if number < len(contact):\n        \n        name = contact[number][0]\n        email = contact[number][1]\n        phone = contact[number][2]\n        print(\"Name: \", name)\n        print(\"Email: \", email)\n        print(\"Phone: \", phone)\n    else:\n        print(len(contact))\n        print(\"ERROR:\", real_number, \"is not in the list!\")\n\ndef add():\n    print(\"Command: add\")\n    add_list = []\n    name  = input(\"Name: \")\n    email = input(\"Email: \")\n    phone = input(\"Phone: \")\n    print(name, \"was added.\")\n    add_list.append(name)\n    add_list.append(email)\n    add_list.append(phone)\n    return add_list\n    \ndef delete(contact):\n    print(\"Command: del\")\n    real_delete_num = int(input(\"Number: \"))\n    delete_num = real_delete_num - 1\n    if delete_num < len(contact):\n        print(contact[delete_num][0], \"was deleted.\")\n        return delete_num\n    else:\n        print(\"ERROR:\", real_delete_num, \"is not in the list!\")\n        return 999999999999999\n\ndef command_menu():\n    print(\"list - Display all contacts\")\n    print(\"view - View a contact\")\n    print(\"add - Add a contact\")\n    print(\"del - Delete a contact\")\n    print(\"exit - Exit program\")\n    user_input = input(\"\")\n    return user_input\n    \ndef default_list():\n     contact = [\n    [\"Guido van Rossum\", \"guide@email.com\", \"+305 999 999\"],\n    [\"Eric Idle\", \"eric@ericidle.com\", \"+ 44 20 7946 0958\"]\n    ]\n     return contact\n    \n\n\n\n\nif __name__ == \"__main__\":\n    main()\n",
      "metadata": {},
      "outputs": [],
      "execution_count": 2
    }
  ]
}