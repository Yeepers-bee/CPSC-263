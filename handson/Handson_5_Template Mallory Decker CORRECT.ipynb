{
  "metadata": {
    "kernelspec": {
      "name": "python",
      "display_name": "Python (Pyodide)",
      "language": "python"
    },
    "language_info": {
      "codemirror_mode": {
        "name": "python",
        "version": 3
      },
      "file_extension": ".py",
      "mimetype": "text/x-python",
      "name": "python",
      "nbconvert_exporter": "python",
      "pygments_lexer": "ipython3",
      "version": "3.8"
    }
  },
  "nbformat_minor": 4,
  "nbformat": 4,
  "cells": [
    {
      "cell_type": "markdown",
      "source": "# File Input\n\nTo submit this assignment in D2l, post the link to your notebook file on your GitHub account.",
      "metadata": {}
    },
    {
      "cell_type": "markdown",
      "source": "## 7.1 Pig Dice Rules\nCreate a program that reads a list of rules from a file and displays them.\n\n### Console:\n```powershell\nPig Dice Rules:\n*\tSee how many turns it takes you to get to 20.\n*\tTurn ends when player rolls a 1 or chooses to hold.\n*\tIf you roll a 1, you lose all points earned during the turn.\n*\tIf you hold, you save all points earned during the turn.\n```\n\n### Specifications:\n- Use the attached text file named `pig_dice_rules.txt` in the corresponding Directory.\n- Your program should read the text file and display it on the console.\n",
      "metadata": {}
    },
    {
      "cell_type": "code",
      "source": "f = open('pig_dice_rules.txt', 'r')\nprint(f.read())\n\n",
      "metadata": {},
      "outputs": [],
      "execution_count": 1
    },
    {
      "cell_type": "markdown",
      "source": "## 7.2 Wizard Inventory\nCreate a program that keeps track of the items that a wizard can carry.\n\n### Console:\n```powershell\nThe Wizard Inventroy Program\n\nCOMMAND MENU\nwalk - Walk down the path \nshow - Show all items \ndrop - Drop an item\nexit - Exit program\n\nCommand: walk\nWhile walking down a path, you see a scroll of uncursing. \nDo you want to grab it? (y/n): y\nYou picked up a scroll of uncursing.\n\nCommand: walk\nWhile walking down a path, you see an unknown potion. \nDo you want to grab it? (y/n): y\nYou can't carry any more items. Drop something first.\n\nCommand: show\n1.\ta wooden staff\n2.\ta scroll of invisibility\n3.\ta crossbow\n4.\ta scroll of uncursing\n\nCommand: drop Number: 3\nYou dropped a crossbow.\n\nCommand: exit \nBye!\n```\n\n### Specifications:\n- Use the attached text file named `wizard_all_items.txt` that contains a list of all the items that a wizard can carry. (in the corresponding directory)\n- When the user selects the walk command, the program should read the items from the file, randomly pick one, and give the user the option to grab it.\n- Your program should create another file that stores the items that the wizard is carrying (`wizard_inventory.txt`). Make sure to update this file every time the user grabs or drops an item.\n- The wizard can only carry **four** items at a time.\n- For the drop command, display an error message if the user enters an invalid number for the item.\n\n",
      "metadata": {}
    },
    {
      "cell_type": "code",
      "source": "import random\nimport sys\n\ndef main():\n\n\n    try:\n        with open('wizard_all_items.txt', 'r') as file:\n            file_exists = file\n        \n    except FileNotFoundError:\n        print(\"Cannot find wizard items. Quitting program.\")\n        sys.exit()\n    except Exception as e:\n        print(type(e), e)\n        print(\"exception occured. Quitting program.\")\n        sys.exit()\n    finally:\n        file.close()\n\n\n    command_menu()\n \n    try:\n        with open('wizard_inventory.txt', 'r') as file:\n            FILENAME = file\n    except FileNotFoundError:\n        print(\"\\nCould not find inventory file!\")\n              #create a new file\n        f = open(\"wizard_inventory.txt\", \"x\")\n        print(\"Wizard is starting with no inventory.\\n\")\n    except Exception as e:\n        print(type(e), e)\n        sys.exit()\n    finally:\n        file.close()\n        \n \n        \n\n    while True:\n        print('')\n        command_occured = False\n        user_input = input(\"Command: \")\n\n#walk\n        if user_input == \"walk\":\n            walk()\n            command_occured = True\n#show\n        elif user_input == \"show\":\n            show()\n            command_occured = True\n#drop \n        elif user_input == \"drop\":\n            drop()\n            command_occured = True\n#exit\n        elif user_input == \"exit\":\n            print(\"Command: exit\")\n            print(\"Bye!\")\n            return\n        elif not command_occured:\n            print(\"ERROR! Invalid command. Try again.\")\n    \n            \n            \ndef title():\n    print(\"The Wizard Inventroy Program/n\")\n\ndef walk():\n    line_count: int = 0\n    with open('wizard_all_items.txt', 'r') as file:\n        all_items = file.readlines()\n    for line in all_items:\n        line_count = line_count + 1\n    ran_num = random.randint(1, line_count)\n    print(\"While walking down a path, you see \" + str(all_items[ran_num]),  end='')\n    while True:\n        user_input = input(\"Do you want to grab it? (y/n): \")\n\n        if user_input == 'y':\n\n            if check() == True:\n                print(\"You picked up \" + str(all_items[ran_num]), end='')\n                outfile = open('wizard_inventory.txt', 'a')\n                outfile.write(str(all_items[ran_num]))\n                outfile.close()\n                break\n            else:\n                print(\"You can't carry any more items. Drop something first.\")\n                break\n        if user_input == 'n':\n            break\n        else:\n            print(\"Invalid input. Please enter either y or n.\")\n            \n            \n\n\n\n\ndef check():\n    inventory_space = 4\n    file = open('wizard_inventory.txt', 'r')\n    all_items = file.readlines()\n    line_count = 0\n    for line in all_items:\n        line_count = line_count + 1\n    if line_count == inventory_space:\n\n        return False\n    else:\n  \n        return True\n    \n\ndef show():\n    file = open('wizard_inventory.txt', 'r')\n    wizard_inventory = file.readlines()\n    line_count = 1\n    for line in wizard_inventory:\n        print(str(line_count) + \".  \" + str(wizard_inventory[line_count - 1]), end='')\n        line_count = line_count + 1\n    file.close()\n\ndef drop():\n    with open('wizard_inventory.txt', 'r') as file:\n        wizard_inventory = file.readlines()\n    user_input = input(\"drop Number: \")\n    line_count = 0\n    dropped = False\n    \n    for line in wizard_inventory:\n        line_count += 1\n        if line_count == int(user_input):\n            print(\"You dropped \" + line.strip())\n            new_inventory = wizard_inventory[:line_count-1] + wizard_inventory[line_count:]\n            with open('wizard_inventory.txt', 'w') as file:\n                file.writelines(new_inventory)\n            dropped = True\n            break\n    \n    if not dropped:\n        print(\"Invalid item to drop.\")\n\ndef command_menu():\n    print(\"walk - Walk down the path\")\n    print(\"show - Show all items \")\n    print(\"drop - Drop an item\")\n    print(\"exit - Exit program\")\n\n\n\n\nif __name__ == \"__main__\":\n    main()\n",
      "metadata": {},
      "outputs": [],
      "execution_count": null
    },
    {
      "cell_type": "markdown",
      "source": "## 7.3 Monthly Sales\nCreate a program that reads the sales for 12 months from a file and calculates the total yearly sales as well as the average monthly sales. In addition, this program should let the user edit the sales for any month.\n\n### Console:\n```powershell\nMonthly Sales program\n\nCOMMAND MENU\nmonthly - View monthly sales \nyearly\t- View yearly sumary \nedit\t- Edit sales for a month \nexit\t- Exit program\n\nCommand: monthly \nJan - 14317\nFeb - 3903\nMar - 1073\nApr - 3463\nMay - 2429\nJun - 4324\nJul - 9762\nAug - 15578\nSep - 2437\nOct - 6735\nNov - 88\nDec - 2497\n\nCommand: yearly\nYearly total:\t66606\nMonthly average:\t5550.5\n\nCommand: edit\nThree-letter Month: Nov Sales Amount: 8854\nSales amount for Nov was modified.\n\nCommand: exit Bye!\n```\n\n### Specifications:\n- Use the attached text file named CSV file named `monthly_sales.csv` that contains the month and sales data shown above.\n- For the edit command, display an error message if the user doesn’t enter a valid three-letter abbreviation for the month.\n- When the user edits the sales amount for a month, the data should be saved to the CSV file immediately. That way, no data is lost, even if the program crashes later.\n- Round the results of the monthly average to a maximum of 2 decimal digits.",
      "metadata": {}
    },
    {
      "cell_type": "code",
      "source": "import csv\n\n\ndef main():\n    menu()\n    FILENAME = \"monthly_sales.csv\"\n    while True:\n        command_occured = False\n        print('')\n        user_input = input(\"Command: \")\n        if user_input == 'monthly':\n            month(FILENAME)\n            command_occured = True\n        elif user_input == 'yearly':\n            year(FILENAME)\n            command_occured = True\n        elif user_input == 'edit':\n            edit(FILENAME)\n            command_occured = True\n        elif user_input == 'exit':\n            print(\"Bye!\")\n            return\n        elif not command_occured:\n            print(\"ERROR! Invalid command.\")\n\n            \n\ndef month(FILENAME):\n    with open(FILENAME, 'r', newline='') as file:\n        reader = csv.reader(file)\n        for row in reader:\n            print(row[0] + ' - ' + row[1])\n        return\n\n\ndef year(FILENAME):\n    with open(FILENAME, 'r', newline='') as file:\n        reader = csv.reader(file)\n        total = 0\n        for row in reader:\n            total = total + int(row[1])\n        average: float = total / 12\n        print(\"Yearly total: \" + str(total))\n        print(\"Monthly average: \" + str(round(average, 2)))\n\ndef edit(FILENAME):\n    month_array = get_month_array(FILENAME)\n    report = read(FILENAME)\n    user_input = input(\"Three-letter Month: \")\n    found_month = user_input in month_array\n    month_index = month_array.index(user_input)\n    if found_month:\n\n        user_sales_input = input(\"Sales Amount: \")\n        report[month_index][0] = user_input\n        report[month_index][1] = user_sales_input\n        write(report,FILENAME)\n        print(\"Sales amount for \" + str(user_input) + \" was modified.\")\n        return\n    else:\n        print(\"ERROR! No month found with name \" + str(user_input))\n        return\n\ndef read(FILENAME):\n    report = []\n    with open(FILENAME, newline=\"\") as file:\n        reader = csv.reader(file)\n        for row in reader:\n            report.append(row)\n        return report\n\ndef write(report,FILENAME):\n    with open(FILENAME, 'w', newline='') as file:\n        writer = csv.writer(file)\n        writer.writerows(report)\n        \n\ndef get_month_array(FILENAME):\n    month_array = []\n    with open(FILENAME, 'r', newline='') as file:\n        reader = csv.reader(file)\n        for row in reader:\n            month_array.append(row[0])\n        return month_array\n\ndef menu():\n    print(\"monthly - View monthly sales\")\n    print(\"yearly  - View yearly summary\")\n    print(\"edit\t- Edit sales for a month\")\n    print(\"exit\t- Exit program\")\n\n\n\nif __name__ == \"__main__\":\n    main()\n",
      "metadata": {},
      "outputs": [],
      "execution_count": null
    }
  ]
}