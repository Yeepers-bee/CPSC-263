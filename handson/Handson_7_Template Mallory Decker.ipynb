{
  "metadata": {
    "kernelspec": {
      "name": "python",
      "display_name": "Python (Pyodide)",
      "language": "python"
    },
    "language_info": {
      "codemirror_mode": {
        "name": "python",
        "version": 3
      },
      "file_extension": ".py",
      "mimetype": "text/x-python",
      "name": "python",
      "nbconvert_exporter": "python",
      "pygments_lexer": "ipython3",
      "version": "3.8"
    }
  },
  "nbformat_minor": 4,
  "nbformat": 4,
  "cells": [
    {
      "cell_type": "markdown",
      "source": "# Exceptions\n\nTo submit this assignment in D2l, post the link to your notebook file on your GitHub account.",
      "metadata": {}
    },
    {
      "cell_type": "markdown",
      "source": "## 8.1 Tip Calculator\nAdd exception handling to a Tip Calculator program.\n\n### Console:\n```powershell\nTip Calculator\n\nINPUT\nCost of meal: ten\nMust be valid decimal number. Please try again. \nCost of meal: -10\nMust be greater than 0. Please try again. \nCost of meal: 52.31\nTip percent:\t17.5\nMust be valid integer. Please try again. \nTip percent:\t20\n\nOUTPUT\nCost of meal:   52.31 \nTip percent:    20%\nTip amount:     10.46\nTotal amount:   62.77\n```\n\n### Specifications:\n- The program should accept **decimal** entries like 52.31 and 15.5 for the cost of the meal.\n- The program should accept **integer** entries like 15, 20, 25 for the tip percent.\n- The program should validate both user entries. That way, the user can’t crash the program by entering invalid data.\n- The program should only accept numbers that are **greater than 0**.\n- The program should round results to a maximum of two decimal places.\n",
      "metadata": {}
    },
    {
      "cell_type": "code",
      "source": "\ndef main():\n    title()\n    meal = cost_of_meal()\n    tip = get_tip()\n    output(meal, tip)\n    \n\ndef title():\n    print(\"Tip Calculator\\n\")\n    print(\"INPUT\")\n    return\n\ndef cost_of_meal():\n    while True:\n        try:\n            meal = float(input(\"Cost of meal: \"))\n            if meal <= 0:\n                print(\"Must be greater than 0. Please try again.\")\n            else:\n                return meal \n        except ValueError:\n            print(\"Must be valid decimal number. Please try again.\")\n\n\n\n\n\n\ndef get_tip():\n    while True:\n        try:\n            tip = int(input(\"Tip percent: \"))\n            if tip  <= 0:\n                print(\"Must be greater than 0. Please try again.\")\n            else:\n                return tip\n        except ValueError:\n            print(\"Must be valid integer. Please try again.\")\n\n\n\ndef output(meal, tip):\n    print(\"\\nOUTPUT\")\n    print(f\"{'Cost of meal:':<15}{meal:>.2f}\")\n    print(f\"{'Tip percent:':<15}{tip}%\")\n    tip_amount = calculate_tip(meal, tip)\n    total_amount = tip_amount + meal\n    print(f\"{'Tip amount:':<15}{tip_amount:>.2f}\")\n    print(f\"{'Total amount:':<15}{total_amount:>.2f}\")\n        \n\n\n\ndef calculate_tip(meal, tip):\n    percent_tip = tip * .01\n    tip_amount = percent_tip * meal\n    total_amount = tip_amount + meal\n    return tip_amount\n    \n    \n\n\n\nif __name__ == \"__main__\":\n    main()\n\n\n",
      "metadata": {},
      "outputs": [],
      "execution_count": null
    },
    {
      "cell_type": "markdown",
      "source": "## 8.2 Wizard Inventory\n\nAdd exception handling to a program that keeps track of the inventory of items that a wizard can carry. If you still have Wizard Inventory from Handson_5, you can add the exception handling to that program. Otherwise, you can start this program from scratch.\n\n### Console if the program can't find the **inventory** file:\n```powershell\nThe Wizard Inventory program\n\nCOMMAND MENU\nwalk - Walk down the path \nshow - Show all items \ndrop - Drop an item\nexit - Exit program\n\nCould not find inventory file!\nWizard is starting with no inventory.\n\nCommand: walk\nWhile walking down a path, you see a crossbow.\nDo you want to grab it? (y/n): y\nYou picked up a crossbow.\n\nCommand: show\n1. a crossbow\n\nCommand: drop Number: x\nInvalid item number.\n```\n\n### The error message if the program can’t find the **items** file:\n```powershell\nCould not find items file.\t\nExiting program. Bye!\t\n```\n\n### Specifications:\n- This program should read the text file named `wizard_all_items.txt` that contains all the items a wizard can carry.\n- When the user selects the walk command, the program should randomly pick one of the items that were read from the text file and give the user the option to grab it.\n- The current items that the wizard is carrying should be saved in an inventory file. Make sure to update this file every time the user grabs or drops an item.\n- The wizard can only carry four items at a time. For the drop command, display an error message if the user enters an invalid integer or an integer that doesn’t correspond with an item.\n- Handle all exceptions that might occur so that the user can’t cause the program to crash. If the all items file is missing, display an appropriate error message and exit the program.\n- If the inventory file is missing, display an appropriate error message and continue with an empty inventory for the user. That way, the program will write a new inventory file when the user adds items to the inventory.",
      "metadata": {}
    },
    {
      "cell_type": "code",
      "source": "import random\nimport sys\n\ndef main():\n\n\n    try:\n        with open('wizard_all_items.txt', 'r') as file:\n            file_exists = file\n        \n    except FileNotFoundError:\n        print(\"Cannot find wizard items. Quitting program.\")\n        sys.exit()\n    except Exception as e:\n        print(type(e), e)\n        print(\"exception occured. Quitting program.\")\n        sys.exit()\n    finally:\n        file.close()\n\n\n    command_menu()\n \n    try:\n        with open('wizard_inventory.txt', 'r') as file:\n            FILENAME = file\n    except FileNotFoundError:\n        print(\"\\nCould not find inventory file!\")\n              #create a new file\n        f = open(\"wizard_inventory.txt\", \"x\")\n        print(\"Wizard is starting with no inventory.\\n\")\n    except Exception as e:\n        print(type(e), e)\n        sys.exit()\n    finally:\n        file.close()\n        \n \n        \n\n    while True:\n        print('')\n        command_occured = False\n        user_input = input(\"Command: \")\n\n#walk\n        if user_input == \"walk\":\n            walk()\n            command_occured = True\n#show\n        elif user_input == \"show\":\n            show()\n            command_occured = True\n#drop \n        elif user_input == \"drop\":\n            drop()\n            command_occured = True\n#exit\n        elif user_input == \"exit\":\n            print(\"Command: exit\")\n            print(\"Bye!\")\n            return\n        elif not command_occured:\n            print(\"ERROR! Invalid command. Try again.\")\n    \n            \n            \ndef title():\n    print(\"The Wizard Inventroy Program/n\")\n\ndef walk():\n    line_count: int = 0\n    with open('wizard_all_items.txt', 'r') as file:\n        all_items = file.readlines()\n    for line in all_items:\n        line_count = line_count + 1\n    ran_num = random.randint(1, line_count)\n    print(\"While walking down a path, you see \" + str(all_items[ran_num]),  end='')\n    while True:\n        user_input = input(\"Do you want to grab it? (y/n): \")\n\n        if user_input == 'y':\n\n            if check() == True:\n                print(\"You picked up \" + str(all_items[ran_num]), end='')\n                outfile = open('wizard_inventory.txt', 'a')\n                outfile.write(str(all_items[ran_num]))\n                outfile.close()\n                break\n            else:\n                print(\"You can't carry any more items. Drop something first.\")\n                break\n        if user_input == 'n':\n            break\n        else:\n            print(\"Invalid input. Please enter either y or n.\")\n            \n            \n\n\n\n\ndef check():\n    inventory_space = 4\n    file = open('wizard_inventory.txt', 'r')\n    all_items = file.readlines()\n    line_count = 0\n    for line in all_items:\n        line_count = line_count + 1\n    if line_count == inventory_space:\n\n        return False\n    else:\n  \n        return True\n    \n\ndef show():\n    file = open('wizard_inventory.txt', 'r')\n    wizard_inventory = file.readlines()\n    line_count = 1\n    for line in wizard_inventory:\n        print(str(line_count) + \".  \" + str(wizard_inventory[line_count - 1]), end='')\n        line_count = line_count + 1\n    file.close()\n\ndef drop():\n    with open('wizard_inventory.txt', 'r') as file:\n        wizard_inventory = file.readlines()\n    user_input = input(\"drop Number: \")\n    line_count = 0\n    dropped = False\n    \n    for line in wizard_inventory:\n        line_count += 1\n        if line_count == int(user_input):\n            print(\"You dropped \" + line.strip())\n            new_inventory = wizard_inventory[:line_count-1] + wizard_inventory[line_count:]\n            with open('wizard_inventory.txt', 'w') as file:\n                file.writelines(new_inventory)\n            dropped = True\n            break\n    \n    if not dropped:\n        print(\"Invalid item to drop.\")\n\ndef command_menu():\n    print(\"walk - Walk down the path\")\n    print(\"show - Show all items \")\n    print(\"drop - Drop an item\")\n    print(\"exit - Exit program\")\n\n\n\n\nif __name__ == \"__main__\":\n    main()\n",
      "metadata": {},
      "outputs": [],
      "execution_count": null
    }
  ]
}