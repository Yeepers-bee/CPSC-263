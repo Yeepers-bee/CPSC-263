{
  "metadata": {
    "kernelspec": {
      "name": "python",
      "display_name": "Python (Pyodide)",
      "language": "python"
    },
    "language_info": {
      "codemirror_mode": {
        "name": "python",
        "version": 3
      },
      "file_extension": ".py",
      "mimetype": "text/x-python",
      "name": "python",
      "nbconvert_exporter": "python",
      "pygments_lexer": "ipython3",
      "version": "3.8"
    }
  },
  "nbformat_minor": 4,
  "nbformat": 4,
  "cells": [
    {
      "cell_type": "markdown",
      "source": "# Dictionaries\n\nTo submit this assignment in D2l, post the link to your notebook file on your GitHub account.",
      "metadata": {}
    },
    {
      "cell_type": "markdown",
      "source": "## 12.1 Champion Counter\nCreate a program that reads a text file that contains a list of FIFA World Cup champions and determines the country that has won the most championships.\n\n### Console:\n```powershell\nCountry\t        Wins\tYears\t\n=======\t        ====\t=====\t\nArgentina       2       1978, 1986\nBrazil\t        5       1958, 1962, 1970, 1994, 2002\nEngland\t        1       1966\t\t\nFrance\t        1       1998\t\t\nGermany\t        4       1954, 1974, 1990, 2014\nItaly\t        4       1934, 1938, 1982, 2006\nSpain\t        1       2010\nUruguay\t        2       1930, 1950\n```\n\n### Specifications:\n- Use the attached text file named `world_cup_champions.txt` that contains data like this: \n```powershell\nYear,Country,Coach,Captain \n1930,Uruguay,Alberto Suppici,José Nasazzi \n1934,Italy,Vittorio Pozzo,Gianpiero Combi \n1938,Italy,Vittorio Pozzo,Giuseppe Meazza\n...\n```\n- When the program starts, it should read the text file and use a dictionary to store the required data using the name of each country that has won the World Cup as the key.\n- The program should compile the data shown above and display the countries alphabetically.\n\n",
      "metadata": {}
    },
    {
      "cell_type": "code",
      "source": "\n#determines country that has won the most campionships \ndef main():\n    dictionary = {}\n    with open (\"world_cup_champions.txt\", 'r') as file:\n        file.readline()\n        file.readline()\n        #getting rid of first line\n        temp = file.readline()\n        while temp != '':  \n            split_list = temp.split(',')\n            year = split_list[0]\n            split_key = split_list.pop(1)\n            if split_key in dictionary:\n                    dictionary[split_key].append(year)\n            else:      \n                dictionary[split_key] = [year]\n            \n            temp = file.readline()\n            print(f\"Dictionary now: {dictionary}\")\n        sorted_dictionary = dict(sorted(dictionary.items()))\n        headline(sorted_dictionary)\n\n\n\n        \n\n\ndef headline(dictionary):\n    print('Country\t        Wins\tYears\t')\n    print('=======\t        ====\t=====\t')\n    #seperator = ', '\n    for key in dictionary:\n\n        wins = 0\n        for item in dictionary[key]:\n            wins = wins + 1\n        items_string = ', '.join(dictionary[key])\n        #using formating so it is all alligned with after each of the values\n        #it all has that many spaces so it all aligns nicely.\n        print(f'{key:<15} {wins:<7} {items_string}')\n\n    \n\n\n\n\nif __name__ == \"__main__\":\n    main()\n",
      "metadata": {},
      "outputs": [],
      "execution_count": 1
    },
    {
      "cell_type": "markdown",
      "source": "## 12.2 Monthly Sales\nCreate a program that allows you to view and edit the sales amounts for each month of the current year.\n\n### Console:\n```powershell\nMonthly Sales program\n\nCOMMAND MENU\nview\t- View sales for specified month \nedit\t- Edit sales for specified month \ntotals - View sales summary for year \nexit\t- Exit program\n\nCommand: view\nThree-letter Month: jan\nSales amount for Jan is 14,317.00.\n\nCommand: edit\nThree-letter Month: jan \nSales Amount: 15293\nSales amount for Jan is 15,293.00.\n\nCommand: totals\nYearly total: 67,855.00\nMonthly average: 5,654.58\n\nCommand: view\nThree-letter Month: july \nInvalid three-letter month.\n\nCommand: exit Bye!\n```\n\n### Specifications:\n- Use the attached text file named `monthly_sales.txt` that consists of rows that contain three-letter abbreviations for the month and the monthly sales.\n- The program should read the file and store the sales data for each month in a dictionary with the month abbreviation as the key for each item.\n- Whenever the sales data is edited, the program should write the changed data to the text file.\n\n\n",
      "metadata": {}
    },
    {
      "cell_type": "code",
      "source": "\ndef main():\n    menu()\n    dictionary = {}\n    FILENAME = \"monthly_sales.txt\"\n    with open(FILENAME, 'r') as file:\n        #for each line get month as key and money as value.\n        for line in file:\n            clean_line = line.strip()\n            split_list = clean_line.split('\\t')\n   \n            month = split_list[0]\n            value = split_list[1]\n            dictionary[month] = int(value)\n        temp = file.readline()\n    file.close()\n    while True:\n        command_occured = False\n        print('')\n        user_input = input(\"Command: \")\n        if user_input == 'view':\n            view(dictionary)\n            command_occured = True\n        elif user_input == 'edit':\n            edit(dictionary, FILENAME)\n            command_occured = True\n        elif user_input == 'totals':\n            totals(dictionary)\n            command_occured = True\n        elif user_input == 'exit':\n            print(\"Bye!\")\n            return\n        elif not command_occured:\n            print(\"ERROR! Invalid command.\")\n\n\n\ndef view(dictionary):\n    user_input = input(\"Three-letter Month: \")\n    valid = valid_month(user_input, dictionary)\n    if valid is not None:\n        display_sales_amount(valid, dictionary)\n    else:\n        print(\"Invalid three-letter month.\")\n        return\n               \n\ndef totals(dictionary):\n    year: int = 0\n    for key in dictionary:\n        year = year + dictionary[key]\n    #divide by the amount of months for monthly average\n    month = year / 12\n    print(\"Yearly total: \" + str(year))\n    print(\"Monthly average: \" + str(month))\n    return\n        \n\ndef edit(dictionary, FILENAME):\n    user_input = input(\"Three-letter Month: \")\n    valid = valid_month(user_input, dictionary)\n    if valid is not None:\n        user_sales_amount = input(\"Sales Amount: \")\n        dictionary[valid] = user_sales_amount\n        \n        with open(FILENAME, 'w') as file:\n            for key in dictionary:\n                #lets file keep the same present format\n                file.write(f\"{key}\\t{dictionary[key]}\\n\")\n        file.close()\n        display_sales_amount(valid, dictionary)\n        return\n    else:\n        print(\"Invalid three-letter month.\")\n        return\n    \n   \n\n    #with open(FILENAME, 'r') as file:\n        \n    \n\ndef valid_month(user_input, dictionary):\n    key_list = dictionary.keys()\n    #this stores the keys in lower case text to see if that matched input\n    lower_key_list = []\n    #handles if user_input is capitalized\n    if user_input in dictionary:\n        return user_input\n    else:\n        #handles lowercase user_input\n        for key in key_list:\n            # Return the original key\n            if key.lower() == user_input.lower():\n                return key \n        else:\n            return None\n\n\n\n\ndef display_sales_amount(user_input, dictionary):\n    print(\"Sales amount for \" + user_input + \" is \" + str(dictionary[user_input]))\n    return\n\n\n            \ndef menu():\n    print(\"COMMAND MENU\")\n    print(\"view\t- View sales for specified month\")\n    print(\"edit\t- Edit sales for specified month \")\n    print(\"totals - View sales summary for year\")\n    print(\"exit\t- Exit program\")\n\n\nif __name__ == \"__main__\":\n    main()\n\n\n\n",
      "metadata": {},
      "outputs": [],
      "execution_count": null
    }
  ]
}