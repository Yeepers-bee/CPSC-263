{
  "metadata": {
    "kernelspec": {
      "name": "python",
      "display_name": "Python (Pyodide)",
      "language": "python"
    },
    "language_info": {
      "codemirror_mode": {
        "name": "python",
        "version": 3
      },
      "file_extension": ".py",
      "mimetype": "text/x-python",
      "name": "python",
      "nbconvert_exporter": "python",
      "pygments_lexer": "ipython3",
      "version": "3.8"
    }
  },
  "nbformat_minor": 4,
  "nbformat": 4,
  "cells": [
    {
      "cell_type": "markdown",
      "source": "# Dictionaries\n\nTo submit this assignment in D2l, post the link to your notebook file on your GitHub account.",
      "metadata": {}
    },
    {
      "cell_type": "markdown",
      "source": "## 12.1 Champion Counter\nCreate a program that reads a text file that contains a list of FIFA World Cup champions and determines the country that has won the most championships.\n\n### Console:\n```powershell\nCountry\t        Wins\tYears\t\n=======\t        ====\t=====\t\nArgentina       2       1978, 1986\nBrazil\t        5       1958, 1962, 1970, 1994, 2002\nEngland\t        1       1966\t\t\nFrance\t        1       1998\t\t\nGermany\t        4       1954, 1974, 1990, 2014\nItaly\t        4       1934, 1938, 1982, 2006\nSpain\t        1       2010\nUruguay\t        2       1930, 1950\n```\n\n### Specifications:\n- Use the attached text file named `world_cup_champions.txt` that contains data like this: \n```powershell\nYear,Country,Coach,Captain \n1930,Uruguay,Alberto Suppici,José Nasazzi \n1934,Italy,Vittorio Pozzo,Gianpiero Combi \n1938,Italy,Vittorio Pozzo,Giuseppe Meazza\n...\n```\n- When the program starts, it should read the text file and use a dictionary to store the required data using the name of each country that has won the World Cup as the key.\n- The program should compile the data shown above and display the countries alphabetically.\n\n",
      "metadata": {}
    },
    {
      "cell_type": "code",
      "source": "### CODE HERE ###",
      "metadata": {},
      "outputs": [],
      "execution_count": 1
    },
    {
      "cell_type": "markdown",
      "source": "## 12.2 Monthly Sales\nCreate a program that allows you to view and edit the sales amounts for each month of the current year.\n\n### Console:\n```powershell\nMonthly Sales program\n\nCOMMAND MENU\nview\t- View sales for specified month \nedit\t- Edit sales for specified month \ntotals - View sales summary for year \nexit\t- Exit program\n\nCommand: view\nThree-letter Month: jan\nSales amount for Jan is 14,317.00.\n\nCommand: edit\nThree-letter Month: jan \nSales Amount: 15293\nSales amount for Jan is 15,293.00.\n\nCommand: totals\nYearly total: 67,855.00\nMonthly average: 5,654.58\n\nCommand: view\nThree-letter Month: july \nInvalid three-letter month.\n\nCommand: exit Bye!\n```\n\n### Specifications:\n- Use the attached text file named `monthly_sales.txt` that consists of rows that contain three-letter abbreviations for the month and the monthly sales.\n- The program should read the file and store the sales data for each month in a dictionary with the month abbreviation as the key for each item.\n- Whenever the sales data is edited, the program should write the changed data to the text file.\n\n\n",
      "metadata": {}
    },
    {
      "cell_type": "code",
      "source": "### CODE HERE ###",
      "metadata": {},
      "outputs": [],
      "execution_count": null
    }
  ]
}