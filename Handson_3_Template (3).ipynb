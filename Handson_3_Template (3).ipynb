{
  "metadata": {
    "kernelspec": {
      "name": "python",
      "display_name": "Python (Pyodide)",
      "language": "python"
    },
    "language_info": {
      "codemirror_mode": {
        "name": "python",
        "version": 3
      },
      "file_extension": ".py",
      "mimetype": "text/x-python",
      "name": "python",
      "nbconvert_exporter": "python",
      "pygments_lexer": "ipython3",
      "version": "3.8"
    }
  },
  "nbformat_minor": 4,
  "nbformat": 4,
  "cells": [
    {
      "cell_type": "markdown",
      "source": "# Functions\n\nTo submit this assignment in D2l, post the link to your notebook file on your GitHub account.",
      "metadata": {}
    },
    {
      "cell_type": "markdown",
      "source": "## 4.1 Even or Odd Checker\nCreate a program that checks whether a number is even or odd.\n\n### Console:\n```powershell\nEven or Odd Checker\n\nEnter an integer: 33\nThis is an odd number.\n```\n\n### Specifications:\n- Store the code that gets user input and displays output in the main function.\n- Store the code that checks whether the number is even or odd in a separate function.\n- Assume that the user will enter a valid integer.\n",
      "metadata": {}
    },
    {
      "cell_type": "code",
      "source": "import math\n\ndef main():\n    print(\"Even or Odd Checker\\n\")\n    user_input = int(input(\"Enter an integer: \"))\n    formula= user_input%2\n    if formula > 0:\n        print(\"This is an odd number.\")\n    else:\n        print(\"This is an even number.\")\n\n\n\n\n\n\nif __name__ == \"__main__\":\n    main()\n",
      "metadata": {},
      "outputs": [],
      "execution_count": 1
    },
    {
      "cell_type": "markdown",
      "source": "## 4.2 - Feet and Meters Converter\nCreate a program that converts feet to meters and vice versa.\n\n### Console\n```powershell\nFeet and Meters Converter\n\nConversions Menu:\na.\tFeet to Meters\nb.\tMeters to Feet\nSelect a conversion (a/b): a\n\nEnter feet: 100\n30.48 meters\n\nWould you like to perform another conversion? (y/n): y \n\nConversions Menu:\na.\tFeet to Meters\nb.\tMeters to Feet\nSelect a conversion (a/b): b\n\nEnter meters: 100\n328.08 feet\n\nWould you like to perform another conversion? (y/n): n\n\nThanks, bye!\n```\n\n### Specifications:\n- The formula for converting feet to meters is:\n`feet = meters / 0.3048`\n\n- The formula for converting meters to feet is:\n`meters = feet * 0.3048`\n\n- Store the code that performs the conversions in functions within a module. For example, store the code that converts feet to meters in a function in a module.\n- Store the code that displays the title in its own function, and store the code that displays the menu in its own function, but store the rest of the code that gets input and displays output in a main function.\n- Assume the user will enter valid data.\n- The program should round results to a maximum of two decimal places.\n\n\n",
      "metadata": {}
    },
    {
      "cell_type": "code",
      "source": "\n#first class conversion\ndef feet_to_meters(meters):\n    feet = meters/0.3048\n    return feet\n\n\n\n\ndef meters_to_feet(feet):\n    meters = feet * .3048\n    return meters\n\n\n\n#second class \n\nimport conversions\n\n\ndef main():\n    title()\n    user_continue = 'y'\n    while user_continue == 'y':\n        user_input = menu()\n        if user_input == 'a':\n            feet = input(\"Enter feet: \")\n            answer = conversions.feet_to_meters(float(feet))\n            print(str(round(answer, 2)), \" meters\")\n        elif user_input == 'b':\n            meters = input(\"Enter meters: \")\n            answer = conversions.meters_to_feet(float(meters))\n            print(str(round(answer, 2)), \" feet\")\n        user_continue = input(\"\\nWould you like to perform another conversion? (y/n): \")\n        if user_continue == 'n':\n            print(\"\\nThanks, bye!\")\n            break\ndef menu():\n    print(\"\\nConversions Menu: \")\n    print(\"a.      Feet to Meters\")\n    print(\"b.      Meters to Feet\")\n    user_input = input(\"Select a conversion (a/b): \")\n    return user_input\ndef title():\n    print(\"Feet and Meters Converter\")\n\nif __name__ == \"__main__\":\n    main()\n\n\n    \n\n",
      "metadata": {},
      "outputs": [],
      "execution_count": 2
    },
    {
      "cell_type": "markdown",
      "source": "## 4.3 - Sales Tax Calculator\nCreate a program that uses a separate module to calculate sales tax and total after tax.\n\n### Console\n```powershell\nSales Tax Calculator\n\nENTER ITEMS (ENTER 0 TO END)\nCost of item: 35.99 \nCost of item: 27.50 \nCost of item: 19.59 \nCost of item: 0 \nTotal:  83.08\nSales tax:\t4.98\nTotal after tax: 88.06 \n\nAgain? (y/n): y\n\nENTER ITEMS (ENTER 0 TO END)\nCost of item: 152.50 \nCost of item: 59.80 \nCost of item: 0\nTotal:  212.3\nSales tax:\t12.74\nTotal after tax: 225.04 \n\nAgain? (y/n): n\n\nThanks, bye!\n\n```\n\n### Specifications\n- The sales tax rate should be 6% of the total.\n- Store the sales tax rate in a module. This module should also contain functions that calculate the sales tax and the total after tax. These functions should round the results to a maximum of two decimal places. Upload the seperate sales tax module to your GitHub repo when submitting.\n- Store the code that gets input and displays output in this notebook. Divide this code into functions wherever you think it would make that code easier to read and maintain.\n- Assume the user will enter valid data.\n\n",
      "metadata": {}
    },
    {
      "cell_type": "code",
      "source": "#first class salesTaxFunctions\nSALES_TAX_RATE: float = .06\n\ndef sales_tax(total):\n    tax = total * SALES_TAX_RATE\n    round(tax, 2)\n    return tax\n\n\n\ndef total_after_tax(total, tax):\n    tax_total = total + tax\n    round(tax_total, 2)\n    return tax_total\n\n#second class\nimport salesTaxFunctions\n\ndef main():\n    title()\n    while True:\n        num_items = amount_items()\n        total = 0\n        if num_items == 0:\n            print(\"\\nThanks, bye!\")\n            break\n        else:\n            total = for_loop(num_items)\n            float(total)\n            round(total, 2)\n            print(\"Total: \", str(total))\n            tax = salesTaxFunctions.sales_tax(total)\n            round(tax, 2)\n            total_tax = salesTaxFunctions.total_after_tax(total, tax)\n            print(\"Sales tax:     \", str(round(tax, 2)))\n            print(\"Total after tax: \", str(round(total_tax, 2)))\n            answer = input(\"\\nAgain? (y/n): \")\n            if answer == 'n':\n                print(\"\\nThanks, bye!\")\n                break\n            \n            \ndef for_loop(num_items):\n    total = 0\n    for i in range(num_items):\n                cost = int(input(\"Cost of item: \"))\n                total += cost\n    return total\n    \n\ndef title():\n    print(\"Sales Tax Calculator\")\n\ndef amount_items():\n    item = int(input(\"\\nENTER ITEMS (ENTER 0 TO END)\"))\n    return item\n        \n\n\n\n\n\n\nif __name__ == \"__main__\":\n    main()\n",
      "metadata": {},
      "outputs": [],
      "execution_count": 3
    },
    {
      "cell_type": "markdown",
      "source": "## 4.4 - Prime Number Checker\nCreate a program that checks whether a number is a prime number and displays the total number of factors if it is not a prime number.\n\n### Console\n```powershell\nPrime Number Checker\n\nPlease enter an integer between 1 and 5000: 1 \nInvalid integer. Please try again.\nPlease enter an integer between 1 and 5000: 2\n2 is a prime number. \n\nTry again? (y/n): y\n\nPlease enter an integer between 1 and 5000: 3\n3 is a prime number.\n\nTry again? (y/n): y\n\nPlease enter an integer between 1 and 5000: 4\n4 is NOT a prime number.\nIt has 3 factors.\n\nTry again? (y/n): y\n\nPlease enter an integer between 1 and 5000: 6\n6 is NOT a prime number.\nIt has 4 factors.\n\nTry again? (y/n): n\n\nBye!\n```\n\n### Specifications\n- A prime number is only divisible by two factors (1 and itself). For example, 7 is a prime number because it is only divisible by 1 and 7.\n- If the number is not a prime number, the program should display its number of factors. For example, 6 has four factors (1, 2, 3, and 6).\n- Store the code that gets a valid integer for this program in its own function.\n- Store the code that calculates the number of factors for a number in its own function.\n- Store the rest of the code that gets input and displays output in the main function.\n\n",
      "metadata": {}
    },
    {
      "cell_type": "code",
      "source": "\n\ndef main():\n    while True:\n        user_input = int_enter()\n        factors = divisble(user_input)\n        int(factors)\n        if factors == 2:\n            print(str(user_input), \"is a prime number.\")\n        else:\n            print(str(user_input), \"is NOT a prime number.\")\n            print(\"It has \", str(factors), \" factors.\")\n        answer = input(\"\\nTry again? (y/n): \\n\")\n        if answer == 'n':\n                  print(\"\\nBye!\")\n                  break\n\ndef title():\n    print(\"Prime Number Checker\\n\")\n    \n\n\ndef int_enter():\n    user_input = int(input(\"Please enter an integer between 1 and 5000: \"))\n    if user_input == 1:\n        print(\"Invalid integer. Please try again.\")\n        int_enter()\n    else:   \n        return user_input\n    \ndef divisble(user_input):\n    factors:int = 0\n    for i in range(user_input):\n        \n        temp = user_input % (i + 1)\n        if temp == 0:\n            factors = factors + 1\n    return factors\n\n\nif __name__ == \"__main__\":\n    main()\n",
      "metadata": {},
      "outputs": [],
      "execution_count": null
    }
  ]
}